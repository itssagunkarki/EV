{
 "cells": [
  {
   "cell_type": "code",
   "execution_count": 332,
   "metadata": {},
   "outputs": [],
   "source": [
    "import data_loader as dl\n",
    "import plotly.express as px\n",
    "import plotly.graph_objects as go\n",
    "import pandas as pd\n",
    "import numpy as np\n",
    "\n",
    "geo_edf = dl.get_raw_data()"
   ]
  },
  {
   "cell_type": "code",
   "execution_count": 333,
   "metadata": {},
   "outputs": [
    {
     "data": {
      "application/vnd.plotly.v1+json": {
       "config": {
        "plotlyServerURL": "https://plot.ly"
       },
       "data": [
        {
         "link": {
          "source": [
           0,
           0,
           0,
           0,
           1,
           1,
           1,
           1,
           2,
           2,
           2,
           2
          ],
          "target": [
           3,
           4,
           5,
           6,
           4,
           6,
           3,
           5,
           5,
           4,
           3,
           6
          ],
          "value": [
           406,
           185,
           52,
           27,
           389,
           125,
           106,
           104,
           117,
           64,
           33,
           21
          ]
         },
         "node": {
          "label": [
           "curr_veh_count_1",
           "curr_veh_count_2",
           "curr_veh_count_3",
           "next_veh_count1",
           "next_veh_count2",
           "next_veh_count3",
           "next_veh_count4"
          ],
          "line": {
           "color": "black",
           "width": 0.5
          },
          "pad": 15,
          "thickness": 20,
          "x": [
           0,
           0,
           0,
           1,
           1,
           1,
           1
          ]
         },
         "type": "sankey"
        }
       ],
       "layout": {
        "font": {
         "size": 10
        },
        "template": {
         "data": {
          "bar": [
           {
            "error_x": {
             "color": "#2a3f5f"
            },
            "error_y": {
             "color": "#2a3f5f"
            },
            "marker": {
             "line": {
              "color": "#E5ECF6",
              "width": 0.5
             },
             "pattern": {
              "fillmode": "overlay",
              "size": 10,
              "solidity": 0.2
             }
            },
            "type": "bar"
           }
          ],
          "barpolar": [
           {
            "marker": {
             "line": {
              "color": "#E5ECF6",
              "width": 0.5
             },
             "pattern": {
              "fillmode": "overlay",
              "size": 10,
              "solidity": 0.2
             }
            },
            "type": "barpolar"
           }
          ],
          "carpet": [
           {
            "aaxis": {
             "endlinecolor": "#2a3f5f",
             "gridcolor": "white",
             "linecolor": "white",
             "minorgridcolor": "white",
             "startlinecolor": "#2a3f5f"
            },
            "baxis": {
             "endlinecolor": "#2a3f5f",
             "gridcolor": "white",
             "linecolor": "white",
             "minorgridcolor": "white",
             "startlinecolor": "#2a3f5f"
            },
            "type": "carpet"
           }
          ],
          "choropleth": [
           {
            "colorbar": {
             "outlinewidth": 0,
             "ticks": ""
            },
            "type": "choropleth"
           }
          ],
          "contour": [
           {
            "colorbar": {
             "outlinewidth": 0,
             "ticks": ""
            },
            "colorscale": [
             [
              0,
              "#0d0887"
             ],
             [
              0.1111111111111111,
              "#46039f"
             ],
             [
              0.2222222222222222,
              "#7201a8"
             ],
             [
              0.3333333333333333,
              "#9c179e"
             ],
             [
              0.4444444444444444,
              "#bd3786"
             ],
             [
              0.5555555555555556,
              "#d8576b"
             ],
             [
              0.6666666666666666,
              "#ed7953"
             ],
             [
              0.7777777777777778,
              "#fb9f3a"
             ],
             [
              0.8888888888888888,
              "#fdca26"
             ],
             [
              1,
              "#f0f921"
             ]
            ],
            "type": "contour"
           }
          ],
          "contourcarpet": [
           {
            "colorbar": {
             "outlinewidth": 0,
             "ticks": ""
            },
            "type": "contourcarpet"
           }
          ],
          "heatmap": [
           {
            "colorbar": {
             "outlinewidth": 0,
             "ticks": ""
            },
            "colorscale": [
             [
              0,
              "#0d0887"
             ],
             [
              0.1111111111111111,
              "#46039f"
             ],
             [
              0.2222222222222222,
              "#7201a8"
             ],
             [
              0.3333333333333333,
              "#9c179e"
             ],
             [
              0.4444444444444444,
              "#bd3786"
             ],
             [
              0.5555555555555556,
              "#d8576b"
             ],
             [
              0.6666666666666666,
              "#ed7953"
             ],
             [
              0.7777777777777778,
              "#fb9f3a"
             ],
             [
              0.8888888888888888,
              "#fdca26"
             ],
             [
              1,
              "#f0f921"
             ]
            ],
            "type": "heatmap"
           }
          ],
          "heatmapgl": [
           {
            "colorbar": {
             "outlinewidth": 0,
             "ticks": ""
            },
            "colorscale": [
             [
              0,
              "#0d0887"
             ],
             [
              0.1111111111111111,
              "#46039f"
             ],
             [
              0.2222222222222222,
              "#7201a8"
             ],
             [
              0.3333333333333333,
              "#9c179e"
             ],
             [
              0.4444444444444444,
              "#bd3786"
             ],
             [
              0.5555555555555556,
              "#d8576b"
             ],
             [
              0.6666666666666666,
              "#ed7953"
             ],
             [
              0.7777777777777778,
              "#fb9f3a"
             ],
             [
              0.8888888888888888,
              "#fdca26"
             ],
             [
              1,
              "#f0f921"
             ]
            ],
            "type": "heatmapgl"
           }
          ],
          "histogram": [
           {
            "marker": {
             "pattern": {
              "fillmode": "overlay",
              "size": 10,
              "solidity": 0.2
             }
            },
            "type": "histogram"
           }
          ],
          "histogram2d": [
           {
            "colorbar": {
             "outlinewidth": 0,
             "ticks": ""
            },
            "colorscale": [
             [
              0,
              "#0d0887"
             ],
             [
              0.1111111111111111,
              "#46039f"
             ],
             [
              0.2222222222222222,
              "#7201a8"
             ],
             [
              0.3333333333333333,
              "#9c179e"
             ],
             [
              0.4444444444444444,
              "#bd3786"
             ],
             [
              0.5555555555555556,
              "#d8576b"
             ],
             [
              0.6666666666666666,
              "#ed7953"
             ],
             [
              0.7777777777777778,
              "#fb9f3a"
             ],
             [
              0.8888888888888888,
              "#fdca26"
             ],
             [
              1,
              "#f0f921"
             ]
            ],
            "type": "histogram2d"
           }
          ],
          "histogram2dcontour": [
           {
            "colorbar": {
             "outlinewidth": 0,
             "ticks": ""
            },
            "colorscale": [
             [
              0,
              "#0d0887"
             ],
             [
              0.1111111111111111,
              "#46039f"
             ],
             [
              0.2222222222222222,
              "#7201a8"
             ],
             [
              0.3333333333333333,
              "#9c179e"
             ],
             [
              0.4444444444444444,
              "#bd3786"
             ],
             [
              0.5555555555555556,
              "#d8576b"
             ],
             [
              0.6666666666666666,
              "#ed7953"
             ],
             [
              0.7777777777777778,
              "#fb9f3a"
             ],
             [
              0.8888888888888888,
              "#fdca26"
             ],
             [
              1,
              "#f0f921"
             ]
            ],
            "type": "histogram2dcontour"
           }
          ],
          "mesh3d": [
           {
            "colorbar": {
             "outlinewidth": 0,
             "ticks": ""
            },
            "type": "mesh3d"
           }
          ],
          "parcoords": [
           {
            "line": {
             "colorbar": {
              "outlinewidth": 0,
              "ticks": ""
             }
            },
            "type": "parcoords"
           }
          ],
          "pie": [
           {
            "automargin": true,
            "type": "pie"
           }
          ],
          "scatter": [
           {
            "fillpattern": {
             "fillmode": "overlay",
             "size": 10,
             "solidity": 0.2
            },
            "type": "scatter"
           }
          ],
          "scatter3d": [
           {
            "line": {
             "colorbar": {
              "outlinewidth": 0,
              "ticks": ""
             }
            },
            "marker": {
             "colorbar": {
              "outlinewidth": 0,
              "ticks": ""
             }
            },
            "type": "scatter3d"
           }
          ],
          "scattercarpet": [
           {
            "marker": {
             "colorbar": {
              "outlinewidth": 0,
              "ticks": ""
             }
            },
            "type": "scattercarpet"
           }
          ],
          "scattergeo": [
           {
            "marker": {
             "colorbar": {
              "outlinewidth": 0,
              "ticks": ""
             }
            },
            "type": "scattergeo"
           }
          ],
          "scattergl": [
           {
            "marker": {
             "colorbar": {
              "outlinewidth": 0,
              "ticks": ""
             }
            },
            "type": "scattergl"
           }
          ],
          "scattermapbox": [
           {
            "marker": {
             "colorbar": {
              "outlinewidth": 0,
              "ticks": ""
             }
            },
            "type": "scattermapbox"
           }
          ],
          "scatterpolar": [
           {
            "marker": {
             "colorbar": {
              "outlinewidth": 0,
              "ticks": ""
             }
            },
            "type": "scatterpolar"
           }
          ],
          "scatterpolargl": [
           {
            "marker": {
             "colorbar": {
              "outlinewidth": 0,
              "ticks": ""
             }
            },
            "type": "scatterpolargl"
           }
          ],
          "scatterternary": [
           {
            "marker": {
             "colorbar": {
              "outlinewidth": 0,
              "ticks": ""
             }
            },
            "type": "scatterternary"
           }
          ],
          "surface": [
           {
            "colorbar": {
             "outlinewidth": 0,
             "ticks": ""
            },
            "colorscale": [
             [
              0,
              "#0d0887"
             ],
             [
              0.1111111111111111,
              "#46039f"
             ],
             [
              0.2222222222222222,
              "#7201a8"
             ],
             [
              0.3333333333333333,
              "#9c179e"
             ],
             [
              0.4444444444444444,
              "#bd3786"
             ],
             [
              0.5555555555555556,
              "#d8576b"
             ],
             [
              0.6666666666666666,
              "#ed7953"
             ],
             [
              0.7777777777777778,
              "#fb9f3a"
             ],
             [
              0.8888888888888888,
              "#fdca26"
             ],
             [
              1,
              "#f0f921"
             ]
            ],
            "type": "surface"
           }
          ],
          "table": [
           {
            "cells": {
             "fill": {
              "color": "#EBF0F8"
             },
             "line": {
              "color": "white"
             }
            },
            "header": {
             "fill": {
              "color": "#C8D4E3"
             },
             "line": {
              "color": "white"
             }
            },
            "type": "table"
           }
          ]
         },
         "layout": {
          "annotationdefaults": {
           "arrowcolor": "#2a3f5f",
           "arrowhead": 0,
           "arrowwidth": 1
          },
          "autotypenumbers": "strict",
          "coloraxis": {
           "colorbar": {
            "outlinewidth": 0,
            "ticks": ""
           }
          },
          "colorscale": {
           "diverging": [
            [
             0,
             "#8e0152"
            ],
            [
             0.1,
             "#c51b7d"
            ],
            [
             0.2,
             "#de77ae"
            ],
            [
             0.3,
             "#f1b6da"
            ],
            [
             0.4,
             "#fde0ef"
            ],
            [
             0.5,
             "#f7f7f7"
            ],
            [
             0.6,
             "#e6f5d0"
            ],
            [
             0.7,
             "#b8e186"
            ],
            [
             0.8,
             "#7fbc41"
            ],
            [
             0.9,
             "#4d9221"
            ],
            [
             1,
             "#276419"
            ]
           ],
           "sequential": [
            [
             0,
             "#0d0887"
            ],
            [
             0.1111111111111111,
             "#46039f"
            ],
            [
             0.2222222222222222,
             "#7201a8"
            ],
            [
             0.3333333333333333,
             "#9c179e"
            ],
            [
             0.4444444444444444,
             "#bd3786"
            ],
            [
             0.5555555555555556,
             "#d8576b"
            ],
            [
             0.6666666666666666,
             "#ed7953"
            ],
            [
             0.7777777777777778,
             "#fb9f3a"
            ],
            [
             0.8888888888888888,
             "#fdca26"
            ],
            [
             1,
             "#f0f921"
            ]
           ],
           "sequentialminus": [
            [
             0,
             "#0d0887"
            ],
            [
             0.1111111111111111,
             "#46039f"
            ],
            [
             0.2222222222222222,
             "#7201a8"
            ],
            [
             0.3333333333333333,
             "#9c179e"
            ],
            [
             0.4444444444444444,
             "#bd3786"
            ],
            [
             0.5555555555555556,
             "#d8576b"
            ],
            [
             0.6666666666666666,
             "#ed7953"
            ],
            [
             0.7777777777777778,
             "#fb9f3a"
            ],
            [
             0.8888888888888888,
             "#fdca26"
            ],
            [
             1,
             "#f0f921"
            ]
           ]
          },
          "colorway": [
           "#636efa",
           "#EF553B",
           "#00cc96",
           "#ab63fa",
           "#FFA15A",
           "#19d3f3",
           "#FF6692",
           "#B6E880",
           "#FF97FF",
           "#FECB52"
          ],
          "font": {
           "color": "#2a3f5f"
          },
          "geo": {
           "bgcolor": "white",
           "lakecolor": "white",
           "landcolor": "#E5ECF6",
           "showlakes": true,
           "showland": true,
           "subunitcolor": "white"
          },
          "hoverlabel": {
           "align": "left"
          },
          "hovermode": "closest",
          "mapbox": {
           "style": "light"
          },
          "paper_bgcolor": "white",
          "plot_bgcolor": "#E5ECF6",
          "polar": {
           "angularaxis": {
            "gridcolor": "white",
            "linecolor": "white",
            "ticks": ""
           },
           "bgcolor": "#E5ECF6",
           "radialaxis": {
            "gridcolor": "white",
            "linecolor": "white",
            "ticks": ""
           }
          },
          "scene": {
           "xaxis": {
            "backgroundcolor": "#E5ECF6",
            "gridcolor": "white",
            "gridwidth": 2,
            "linecolor": "white",
            "showbackground": true,
            "ticks": "",
            "zerolinecolor": "white"
           },
           "yaxis": {
            "backgroundcolor": "#E5ECF6",
            "gridcolor": "white",
            "gridwidth": 2,
            "linecolor": "white",
            "showbackground": true,
            "ticks": "",
            "zerolinecolor": "white"
           },
           "zaxis": {
            "backgroundcolor": "#E5ECF6",
            "gridcolor": "white",
            "gridwidth": 2,
            "linecolor": "white",
            "showbackground": true,
            "ticks": "",
            "zerolinecolor": "white"
           }
          },
          "shapedefaults": {
           "line": {
            "color": "#2a3f5f"
           }
          },
          "ternary": {
           "aaxis": {
            "gridcolor": "white",
            "linecolor": "white",
            "ticks": ""
           },
           "baxis": {
            "gridcolor": "white",
            "linecolor": "white",
            "ticks": ""
           },
           "bgcolor": "#E5ECF6",
           "caxis": {
            "gridcolor": "white",
            "linecolor": "white",
            "ticks": ""
           }
          },
          "title": {
           "x": 0.05
          },
          "xaxis": {
           "automargin": true,
           "gridcolor": "white",
           "linecolor": "white",
           "ticks": "",
           "title": {
            "standoff": 15
           },
           "zerolinecolor": "white",
           "zerolinewidth": 2
          },
          "yaxis": {
           "automargin": true,
           "gridcolor": "white",
           "linecolor": "white",
           "ticks": "",
           "title": {
            "standoff": 15
           },
           "zerolinecolor": "white",
           "zerolinewidth": 2
          }
         }
        },
        "title": {
         "text": "Basic Sankey Diagram"
        }
       }
      }
     },
     "metadata": {},
     "output_type": "display_data"
    }
   ],
   "source": [
    "df_for_sankey = geo_edf[\n",
    "    ['veh_type_1',  'sp1', 'next_veh_type_1']\n",
    "]\n",
    "df_for_sankey\n",
    "\n",
    "sankey_conn_curr_next = df_for_sankey.groupby('veh_type_1').agg({'next_veh_type_1': 'value_counts'}).rename(columns={'next_veh_type_1': 'delta_curr_to_next'}).reset_index()\n",
    "sankey_conn_curr_next['curr_veh_type_source'] = sankey_conn_curr_next['veh_type_1'].copy().apply(lambda x: float(x)-1)\n",
    "sankey_conn_curr_next['next_veh_type_source'] = sankey_conn_curr_next['next_veh_type_1'].copy().apply(lambda x: 3+float(x)-1)\n",
    "\n",
    "\n",
    "\n",
    "fig = go.Figure(data=[go.Sankey(\n",
    "    node=dict(\n",
    "        pad=15,\n",
    "        thickness=20,\n",
    "        line=dict(color=\"black\", width=0.5),\n",
    "        label=['curr_veh_count_1', 'curr_veh_count_2', 'curr_veh_count_3', 'next_veh_count1', 'next_veh_count2', 'next_veh_count3', 'next_veh_count4'],\n",
    "        # color=\"blue\",\n",
    "        x=[0, 0, 0, 1, 1, 1, 1]  # Adjust x-axis position for each node\n",
    "    ),\n",
    "    link=dict(\n",
    "        source=sankey_conn_curr_next['curr_veh_type_source'].to_list(),\n",
    "        target=sankey_conn_curr_next['next_veh_type_source'].to_list(),\n",
    "        value=sankey_conn_curr_next['delta_curr_to_next'].to_list()\n",
    "    )\n",
    ")])\n",
    "\n",
    "fig.update_layout(title_text=\"Basic Sankey Diagram\", font_size=10)\n",
    "fig.show()"
   ]
  },
  {
   "cell_type": "code",
   "execution_count": 334,
   "metadata": {},
   "outputs": [],
   "source": [
    "# newer"
   ]
  },
  {
   "cell_type": "code",
   "execution_count": 335,
   "metadata": {},
   "outputs": [
    {
     "data": {
      "text/html": [
       "<div>\n",
       "<style scoped>\n",
       "    .dataframe tbody tr th:only-of-type {\n",
       "        vertical-align: middle;\n",
       "    }\n",
       "\n",
       "    .dataframe tbody tr th {\n",
       "        vertical-align: top;\n",
       "    }\n",
       "\n",
       "    .dataframe thead th {\n",
       "        text-align: right;\n",
       "    }\n",
       "</style>\n",
       "<table border=\"1\" class=\"dataframe\">\n",
       "  <thead>\n",
       "    <tr style=\"text-align: right;\">\n",
       "      <th></th>\n",
       "      <th>veh_pt_1</th>\n",
       "      <th>veh_type_1</th>\n",
       "      <th>sp1</th>\n",
       "      <th>comb_weight</th>\n",
       "    </tr>\n",
       "  </thead>\n",
       "  <tbody>\n",
       "    <tr>\n",
       "      <th>0</th>\n",
       "      <td>Small Car</td>\n",
       "      <td>ICE</td>\n",
       "      <td>Large ICE</td>\n",
       "      <td>0.357282</td>\n",
       "    </tr>\n",
       "    <tr>\n",
       "      <th>1</th>\n",
       "      <td>Small Car</td>\n",
       "      <td>HEV</td>\n",
       "      <td>Large BEV</td>\n",
       "      <td>5.000008</td>\n",
       "    </tr>\n",
       "    <tr>\n",
       "      <th>2</th>\n",
       "      <td>Small Car</td>\n",
       "      <td>HEV</td>\n",
       "      <td>Small ICE</td>\n",
       "      <td>1.896234</td>\n",
       "    </tr>\n",
       "    <tr>\n",
       "      <th>3</th>\n",
       "      <td>Small Car</td>\n",
       "      <td>HEV</td>\n",
       "      <td>Small ICE</td>\n",
       "      <td>0.173927</td>\n",
       "    </tr>\n",
       "    <tr>\n",
       "      <th>4</th>\n",
       "      <td>Small Car</td>\n",
       "      <td>HEV</td>\n",
       "      <td>Large ICE</td>\n",
       "      <td>0.038582</td>\n",
       "    </tr>\n",
       "    <tr>\n",
       "      <th>...</th>\n",
       "      <td>...</td>\n",
       "      <td>...</td>\n",
       "      <td>...</td>\n",
       "      <td>...</td>\n",
       "    </tr>\n",
       "    <tr>\n",
       "      <th>1949</th>\n",
       "      <td>Small Car</td>\n",
       "      <td>HEV</td>\n",
       "      <td>Large ICE</td>\n",
       "      <td>4.749426</td>\n",
       "    </tr>\n",
       "    <tr>\n",
       "      <th>1950</th>\n",
       "      <td>Small Car</td>\n",
       "      <td>PHEV</td>\n",
       "      <td>Pickup truck BEV</td>\n",
       "      <td>0.713148</td>\n",
       "    </tr>\n",
       "    <tr>\n",
       "      <th>1951</th>\n",
       "      <td>Small Car</td>\n",
       "      <td>HEV</td>\n",
       "      <td>Small ICE</td>\n",
       "      <td>0.137644</td>\n",
       "    </tr>\n",
       "    <tr>\n",
       "      <th>1952</th>\n",
       "      <td>Small Car</td>\n",
       "      <td>HEV</td>\n",
       "      <td>Small ICE</td>\n",
       "      <td>0.155176</td>\n",
       "    </tr>\n",
       "    <tr>\n",
       "      <th>1953</th>\n",
       "      <td>NaN</td>\n",
       "      <td>NaN</td>\n",
       "      <td>Small ICE</td>\n",
       "      <td>0.698332</td>\n",
       "    </tr>\n",
       "  </tbody>\n",
       "</table>\n",
       "<p>1954 rows × 4 columns</p>\n",
       "</div>"
      ],
      "text/plain": [
       "       veh_pt_1 veh_type_1               sp1  comb_weight\n",
       "0     Small Car        ICE         Large ICE     0.357282\n",
       "1     Small Car        HEV         Large BEV     5.000008\n",
       "2     Small Car        HEV         Small ICE     1.896234\n",
       "3     Small Car        HEV         Small ICE     0.173927\n",
       "4     Small Car        HEV         Large ICE     0.038582\n",
       "...         ...        ...               ...          ...\n",
       "1949  Small Car        HEV         Large ICE     4.749426\n",
       "1950  Small Car       PHEV  Pickup truck BEV     0.713148\n",
       "1951  Small Car        HEV         Small ICE     0.137644\n",
       "1952  Small Car        HEV         Small ICE     0.155176\n",
       "1953        NaN        NaN         Small ICE     0.698332\n",
       "\n",
       "[1954 rows x 4 columns]"
      ]
     },
     "execution_count": 335,
     "metadata": {},
     "output_type": "execute_result"
    }
   ],
   "source": [
    "df_for_sankey = geo_edf[['veh_pt_1', 'veh_type_1', 'sp1', 'comb_weight']].copy()\n",
    "df_for_sankey['sp1'] = df_for_sankey['sp1'].map({1: \"Small ICE\", 2: \"Small BEV\", 3: \"Large ICE\", 4: \"Large BEV\", 5:\"Pickup truck ICE\", 6: \"Pickup truck BEV\"})\n",
    "df_for_sankey['veh_pt_1'] = df_for_sankey['veh_pt_1'].map({1: \"Small Car\", 2: \"Large Car \", 3: \"Pickup Truck\"})\n",
    "df_for_sankey['veh_type_1'] = df_for_sankey['veh_type_1'].map({1: \"ICE\", 2: \"HEV\", 3: \"PHEV\", 4: \"BEV\"})\n",
    "df_for_sankey"
   ]
  },
  {
   "cell_type": "code",
   "execution_count": 336,
   "metadata": {},
   "outputs": [
    {
     "data": {
      "text/html": [
       "<div>\n",
       "<style scoped>\n",
       "    .dataframe tbody tr th:only-of-type {\n",
       "        vertical-align: middle;\n",
       "    }\n",
       "\n",
       "    .dataframe tbody tr th {\n",
       "        vertical-align: top;\n",
       "    }\n",
       "\n",
       "    .dataframe thead th {\n",
       "        text-align: right;\n",
       "    }\n",
       "</style>\n",
       "<table border=\"1\" class=\"dataframe\">\n",
       "  <thead>\n",
       "    <tr style=\"text-align: right;\">\n",
       "      <th></th>\n",
       "      <th>veh_pt_1</th>\n",
       "      <th>veh_type_1</th>\n",
       "      <th>sp1</th>\n",
       "      <th>comb_weight</th>\n",
       "      <th>curr</th>\n",
       "    </tr>\n",
       "  </thead>\n",
       "  <tbody>\n",
       "    <tr>\n",
       "      <th>19</th>\n",
       "      <td>Large Car</td>\n",
       "      <td>HEV</td>\n",
       "      <td>Large BEV</td>\n",
       "      <td>0.201524</td>\n",
       "      <td>Large Car _HEV</td>\n",
       "    </tr>\n",
       "    <tr>\n",
       "      <th>43</th>\n",
       "      <td>Large Car</td>\n",
       "      <td>HEV</td>\n",
       "      <td>Large BEV</td>\n",
       "      <td>0.184200</td>\n",
       "      <td>Large Car _HEV</td>\n",
       "    </tr>\n",
       "    <tr>\n",
       "      <th>208</th>\n",
       "      <td>Large Car</td>\n",
       "      <td>HEV</td>\n",
       "      <td>Large BEV</td>\n",
       "      <td>0.144763</td>\n",
       "      <td>Large Car _HEV</td>\n",
       "    </tr>\n",
       "    <tr>\n",
       "      <th>233</th>\n",
       "      <td>Large Car</td>\n",
       "      <td>HEV</td>\n",
       "      <td>Large BEV</td>\n",
       "      <td>0.408959</td>\n",
       "      <td>Large Car _HEV</td>\n",
       "    </tr>\n",
       "    <tr>\n",
       "      <th>540</th>\n",
       "      <td>Large Car</td>\n",
       "      <td>HEV</td>\n",
       "      <td>Large BEV</td>\n",
       "      <td>0.642585</td>\n",
       "      <td>Large Car _HEV</td>\n",
       "    </tr>\n",
       "    <tr>\n",
       "      <th>...</th>\n",
       "      <td>...</td>\n",
       "      <td>...</td>\n",
       "      <td>...</td>\n",
       "      <td>...</td>\n",
       "      <td>...</td>\n",
       "    </tr>\n",
       "    <tr>\n",
       "      <th>1745</th>\n",
       "      <td>Small Car</td>\n",
       "      <td>PHEV</td>\n",
       "      <td>Small ICE</td>\n",
       "      <td>4.344947</td>\n",
       "      <td>Small Car_PHEV</td>\n",
       "    </tr>\n",
       "    <tr>\n",
       "      <th>1806</th>\n",
       "      <td>Small Car</td>\n",
       "      <td>PHEV</td>\n",
       "      <td>Small ICE</td>\n",
       "      <td>0.171731</td>\n",
       "      <td>Small Car_PHEV</td>\n",
       "    </tr>\n",
       "    <tr>\n",
       "      <th>1817</th>\n",
       "      <td>Small Car</td>\n",
       "      <td>PHEV</td>\n",
       "      <td>Small ICE</td>\n",
       "      <td>0.353291</td>\n",
       "      <td>Small Car_PHEV</td>\n",
       "    </tr>\n",
       "    <tr>\n",
       "      <th>1855</th>\n",
       "      <td>Small Car</td>\n",
       "      <td>PHEV</td>\n",
       "      <td>Small ICE</td>\n",
       "      <td>4.720936</td>\n",
       "      <td>Small Car_PHEV</td>\n",
       "    </tr>\n",
       "    <tr>\n",
       "      <th>1868</th>\n",
       "      <td>Small Car</td>\n",
       "      <td>PHEV</td>\n",
       "      <td>Small ICE</td>\n",
       "      <td>0.828532</td>\n",
       "      <td>Small Car_PHEV</td>\n",
       "    </tr>\n",
       "  </tbody>\n",
       "</table>\n",
       "<p>1737 rows × 5 columns</p>\n",
       "</div>"
      ],
      "text/plain": [
       "        veh_pt_1 veh_type_1        sp1  comb_weight            curr\n",
       "19    Large Car         HEV  Large BEV     0.201524  Large Car _HEV\n",
       "43    Large Car         HEV  Large BEV     0.184200  Large Car _HEV\n",
       "208   Large Car         HEV  Large BEV     0.144763  Large Car _HEV\n",
       "233   Large Car         HEV  Large BEV     0.408959  Large Car _HEV\n",
       "540   Large Car         HEV  Large BEV     0.642585  Large Car _HEV\n",
       "...          ...        ...        ...          ...             ...\n",
       "1745   Small Car       PHEV  Small ICE     4.344947  Small Car_PHEV\n",
       "1806   Small Car       PHEV  Small ICE     0.171731  Small Car_PHEV\n",
       "1817   Small Car       PHEV  Small ICE     0.353291  Small Car_PHEV\n",
       "1855   Small Car       PHEV  Small ICE     4.720936  Small Car_PHEV\n",
       "1868   Small Car       PHEV  Small ICE     0.828532  Small Car_PHEV\n",
       "\n",
       "[1737 rows x 5 columns]"
      ]
     },
     "execution_count": 336,
     "metadata": {},
     "output_type": "execute_result"
    }
   ],
   "source": [
    "\n",
    "# filter anything that is not nan\n",
    "df_for_sankey.fillna(-1, inplace=True)\n",
    "df_for_sankey = df_for_sankey[(df_for_sankey['sp1'] != -1) & (df_for_sankey['veh_type_1'] != -1) & (df_for_sankey['veh_pt_1'] != -1)].copy()\n",
    "\n",
    "\n",
    "#convert them to int\n",
    "# df_for_sankey[['veh_type_1', 'veh_pt_1', 'sp1']] = df_for_sankey[['veh_type_1', 'veh_pt_1', 'sp1']].astype(int)\n",
    "\n",
    "# create a new column that is a combination of veh_pt_1 and veh_type_1\n",
    "df_for_sankey['curr'] = df_for_sankey['veh_pt_1'].astype(str) + '_' + df_for_sankey['veh_type_1'].astype(str)\n",
    "df_for_sankey.sort_values(by=['curr', 'sp1'], inplace=True)\n",
    "df_for_sankey"
   ]
  },
  {
   "cell_type": "code",
   "execution_count": 337,
   "metadata": {},
   "outputs": [],
   "source": [
    "df_for_sankey = df_for_sankey.groupby(['curr', 'sp1']).sum('comb_weight').reset_index()\n",
    "# df_for_sankey"
   ]
  },
  {
   "cell_type": "code",
   "execution_count": 338,
   "metadata": {},
   "outputs": [],
   "source": [
    "df_for_sankey = df_for_sankey.groupby(['curr', 'sp1']).sum('comb_weight').reset_index()\n",
    "df_for_sankey.sort_values(['curr', 'sp1'], inplace=True)\n",
    "# df_for_sankey\n"
   ]
  },
  {
   "cell_type": "code",
   "execution_count": 339,
   "metadata": {},
   "outputs": [
    {
     "data": {
      "text/html": [
       "<div>\n",
       "<style scoped>\n",
       "    .dataframe tbody tr th:only-of-type {\n",
       "        vertical-align: middle;\n",
       "    }\n",
       "\n",
       "    .dataframe tbody tr th {\n",
       "        vertical-align: top;\n",
       "    }\n",
       "\n",
       "    .dataframe thead th {\n",
       "        text-align: right;\n",
       "    }\n",
       "</style>\n",
       "<table border=\"1\" class=\"dataframe\">\n",
       "  <thead>\n",
       "    <tr style=\"text-align: right;\">\n",
       "      <th></th>\n",
       "      <th>curr</th>\n",
       "      <th>sp1</th>\n",
       "      <th>comb_weight</th>\n",
       "      <th>curr_mapping</th>\n",
       "    </tr>\n",
       "  </thead>\n",
       "  <tbody>\n",
       "    <tr>\n",
       "      <th>0</th>\n",
       "      <td>Large Car _HEV</td>\n",
       "      <td>Large BEV</td>\n",
       "      <td>4.562911</td>\n",
       "      <td>NaN</td>\n",
       "    </tr>\n",
       "    <tr>\n",
       "      <th>1</th>\n",
       "      <td>Large Car _HEV</td>\n",
       "      <td>Large ICE</td>\n",
       "      <td>1.887041</td>\n",
       "      <td>NaN</td>\n",
       "    </tr>\n",
       "    <tr>\n",
       "      <th>2</th>\n",
       "      <td>Large Car _HEV</td>\n",
       "      <td>Small BEV</td>\n",
       "      <td>6.964996</td>\n",
       "      <td>NaN</td>\n",
       "    </tr>\n",
       "    <tr>\n",
       "      <th>3</th>\n",
       "      <td>Large Car _HEV</td>\n",
       "      <td>Small ICE</td>\n",
       "      <td>2.390057</td>\n",
       "      <td>NaN</td>\n",
       "    </tr>\n",
       "    <tr>\n",
       "      <th>4</th>\n",
       "      <td>Large Car _ICE</td>\n",
       "      <td>Large BEV</td>\n",
       "      <td>14.687570</td>\n",
       "      <td>NaN</td>\n",
       "    </tr>\n",
       "    <tr>\n",
       "      <th>5</th>\n",
       "      <td>Large Car _ICE</td>\n",
       "      <td>Large ICE</td>\n",
       "      <td>1.899622</td>\n",
       "      <td>NaN</td>\n",
       "    </tr>\n",
       "    <tr>\n",
       "      <th>6</th>\n",
       "      <td>Large Car _ICE</td>\n",
       "      <td>Pickup truck BEV</td>\n",
       "      <td>8.919592</td>\n",
       "      <td>NaN</td>\n",
       "    </tr>\n",
       "    <tr>\n",
       "      <th>7</th>\n",
       "      <td>Large Car _ICE</td>\n",
       "      <td>Pickup truck ICE</td>\n",
       "      <td>8.769296</td>\n",
       "      <td>NaN</td>\n",
       "    </tr>\n",
       "    <tr>\n",
       "      <th>8</th>\n",
       "      <td>Large Car _ICE</td>\n",
       "      <td>Small BEV</td>\n",
       "      <td>10.516950</td>\n",
       "      <td>NaN</td>\n",
       "    </tr>\n",
       "    <tr>\n",
       "      <th>9</th>\n",
       "      <td>Large Car _ICE</td>\n",
       "      <td>Small ICE</td>\n",
       "      <td>8.241609</td>\n",
       "      <td>NaN</td>\n",
       "    </tr>\n",
       "    <tr>\n",
       "      <th>10</th>\n",
       "      <td>Large Car _PHEV</td>\n",
       "      <td>Large ICE</td>\n",
       "      <td>3.810292</td>\n",
       "      <td>NaN</td>\n",
       "    </tr>\n",
       "    <tr>\n",
       "      <th>11</th>\n",
       "      <td>Large Car _PHEV</td>\n",
       "      <td>Pickup truck ICE</td>\n",
       "      <td>0.518689</td>\n",
       "      <td>NaN</td>\n",
       "    </tr>\n",
       "    <tr>\n",
       "      <th>12</th>\n",
       "      <td>Large Car _PHEV</td>\n",
       "      <td>Small BEV</td>\n",
       "      <td>1.050791</td>\n",
       "      <td>NaN</td>\n",
       "    </tr>\n",
       "    <tr>\n",
       "      <th>13</th>\n",
       "      <td>Pickup Truck_HEV</td>\n",
       "      <td>Large BEV</td>\n",
       "      <td>2.475088</td>\n",
       "      <td>NaN</td>\n",
       "    </tr>\n",
       "    <tr>\n",
       "      <th>14</th>\n",
       "      <td>Pickup Truck_HEV</td>\n",
       "      <td>Large ICE</td>\n",
       "      <td>5.788149</td>\n",
       "      <td>NaN</td>\n",
       "    </tr>\n",
       "    <tr>\n",
       "      <th>15</th>\n",
       "      <td>Pickup Truck_HEV</td>\n",
       "      <td>Pickup truck BEV</td>\n",
       "      <td>2.126604</td>\n",
       "      <td>NaN</td>\n",
       "    </tr>\n",
       "    <tr>\n",
       "      <th>16</th>\n",
       "      <td>Pickup Truck_HEV</td>\n",
       "      <td>Small BEV</td>\n",
       "      <td>15.005038</td>\n",
       "      <td>NaN</td>\n",
       "    </tr>\n",
       "    <tr>\n",
       "      <th>17</th>\n",
       "      <td>Pickup Truck_HEV</td>\n",
       "      <td>Small ICE</td>\n",
       "      <td>5.041278</td>\n",
       "      <td>NaN</td>\n",
       "    </tr>\n",
       "    <tr>\n",
       "      <th>18</th>\n",
       "      <td>Pickup Truck_ICE</td>\n",
       "      <td>Large BEV</td>\n",
       "      <td>15.216465</td>\n",
       "      <td>NaN</td>\n",
       "    </tr>\n",
       "    <tr>\n",
       "      <th>19</th>\n",
       "      <td>Pickup Truck_ICE</td>\n",
       "      <td>Large ICE</td>\n",
       "      <td>14.901002</td>\n",
       "      <td>NaN</td>\n",
       "    </tr>\n",
       "    <tr>\n",
       "      <th>20</th>\n",
       "      <td>Pickup Truck_ICE</td>\n",
       "      <td>Pickup truck BEV</td>\n",
       "      <td>9.447310</td>\n",
       "      <td>NaN</td>\n",
       "    </tr>\n",
       "    <tr>\n",
       "      <th>21</th>\n",
       "      <td>Pickup Truck_ICE</td>\n",
       "      <td>Pickup truck ICE</td>\n",
       "      <td>2.674748</td>\n",
       "      <td>NaN</td>\n",
       "    </tr>\n",
       "    <tr>\n",
       "      <th>22</th>\n",
       "      <td>Pickup Truck_ICE</td>\n",
       "      <td>Small BEV</td>\n",
       "      <td>27.456953</td>\n",
       "      <td>NaN</td>\n",
       "    </tr>\n",
       "    <tr>\n",
       "      <th>23</th>\n",
       "      <td>Pickup Truck_ICE</td>\n",
       "      <td>Small ICE</td>\n",
       "      <td>25.747800</td>\n",
       "      <td>NaN</td>\n",
       "    </tr>\n",
       "    <tr>\n",
       "      <th>24</th>\n",
       "      <td>Pickup Truck_PHEV</td>\n",
       "      <td>Large BEV</td>\n",
       "      <td>0.221593</td>\n",
       "      <td>NaN</td>\n",
       "    </tr>\n",
       "    <tr>\n",
       "      <th>25</th>\n",
       "      <td>Pickup Truck_PHEV</td>\n",
       "      <td>Large ICE</td>\n",
       "      <td>0.308266</td>\n",
       "      <td>NaN</td>\n",
       "    </tr>\n",
       "    <tr>\n",
       "      <th>26</th>\n",
       "      <td>Pickup Truck_PHEV</td>\n",
       "      <td>Pickup truck BEV</td>\n",
       "      <td>1.870039</td>\n",
       "      <td>NaN</td>\n",
       "    </tr>\n",
       "    <tr>\n",
       "      <th>27</th>\n",
       "      <td>Pickup Truck_PHEV</td>\n",
       "      <td>Pickup truck ICE</td>\n",
       "      <td>0.102669</td>\n",
       "      <td>NaN</td>\n",
       "    </tr>\n",
       "    <tr>\n",
       "      <th>28</th>\n",
       "      <td>Pickup Truck_PHEV</td>\n",
       "      <td>Small ICE</td>\n",
       "      <td>0.468809</td>\n",
       "      <td>NaN</td>\n",
       "    </tr>\n",
       "    <tr>\n",
       "      <th>29</th>\n",
       "      <td>Small Car_HEV</td>\n",
       "      <td>Large BEV</td>\n",
       "      <td>82.811714</td>\n",
       "      <td>NaN</td>\n",
       "    </tr>\n",
       "    <tr>\n",
       "      <th>30</th>\n",
       "      <td>Small Car_HEV</td>\n",
       "      <td>Large ICE</td>\n",
       "      <td>265.687313</td>\n",
       "      <td>NaN</td>\n",
       "    </tr>\n",
       "    <tr>\n",
       "      <th>31</th>\n",
       "      <td>Small Car_HEV</td>\n",
       "      <td>Pickup truck BEV</td>\n",
       "      <td>34.853527</td>\n",
       "      <td>NaN</td>\n",
       "    </tr>\n",
       "    <tr>\n",
       "      <th>32</th>\n",
       "      <td>Small Car_HEV</td>\n",
       "      <td>Pickup truck ICE</td>\n",
       "      <td>87.503152</td>\n",
       "      <td>NaN</td>\n",
       "    </tr>\n",
       "    <tr>\n",
       "      <th>33</th>\n",
       "      <td>Small Car_HEV</td>\n",
       "      <td>Small BEV</td>\n",
       "      <td>56.430433</td>\n",
       "      <td>NaN</td>\n",
       "    </tr>\n",
       "    <tr>\n",
       "      <th>34</th>\n",
       "      <td>Small Car_HEV</td>\n",
       "      <td>Small ICE</td>\n",
       "      <td>159.687672</td>\n",
       "      <td>NaN</td>\n",
       "    </tr>\n",
       "    <tr>\n",
       "      <th>35</th>\n",
       "      <td>Small Car_ICE</td>\n",
       "      <td>Large BEV</td>\n",
       "      <td>45.761778</td>\n",
       "      <td>NaN</td>\n",
       "    </tr>\n",
       "    <tr>\n",
       "      <th>36</th>\n",
       "      <td>Small Car_ICE</td>\n",
       "      <td>Large ICE</td>\n",
       "      <td>94.149007</td>\n",
       "      <td>NaN</td>\n",
       "    </tr>\n",
       "    <tr>\n",
       "      <th>37</th>\n",
       "      <td>Small Car_ICE</td>\n",
       "      <td>Pickup truck BEV</td>\n",
       "      <td>15.719550</td>\n",
       "      <td>NaN</td>\n",
       "    </tr>\n",
       "    <tr>\n",
       "      <th>38</th>\n",
       "      <td>Small Car_ICE</td>\n",
       "      <td>Pickup truck ICE</td>\n",
       "      <td>28.361000</td>\n",
       "      <td>NaN</td>\n",
       "    </tr>\n",
       "    <tr>\n",
       "      <th>39</th>\n",
       "      <td>Small Car_ICE</td>\n",
       "      <td>Small BEV</td>\n",
       "      <td>130.217481</td>\n",
       "      <td>NaN</td>\n",
       "    </tr>\n",
       "    <tr>\n",
       "      <th>40</th>\n",
       "      <td>Small Car_ICE</td>\n",
       "      <td>Small ICE</td>\n",
       "      <td>330.408230</td>\n",
       "      <td>NaN</td>\n",
       "    </tr>\n",
       "    <tr>\n",
       "      <th>41</th>\n",
       "      <td>Small Car_PHEV</td>\n",
       "      <td>Large BEV</td>\n",
       "      <td>12.418875</td>\n",
       "      <td>NaN</td>\n",
       "    </tr>\n",
       "    <tr>\n",
       "      <th>42</th>\n",
       "      <td>Small Car_PHEV</td>\n",
       "      <td>Large ICE</td>\n",
       "      <td>28.059184</td>\n",
       "      <td>NaN</td>\n",
       "    </tr>\n",
       "    <tr>\n",
       "      <th>43</th>\n",
       "      <td>Small Car_PHEV</td>\n",
       "      <td>Pickup truck BEV</td>\n",
       "      <td>25.453004</td>\n",
       "      <td>NaN</td>\n",
       "    </tr>\n",
       "    <tr>\n",
       "      <th>44</th>\n",
       "      <td>Small Car_PHEV</td>\n",
       "      <td>Pickup truck ICE</td>\n",
       "      <td>130.798470</td>\n",
       "      <td>NaN</td>\n",
       "    </tr>\n",
       "    <tr>\n",
       "      <th>45</th>\n",
       "      <td>Small Car_PHEV</td>\n",
       "      <td>Small BEV</td>\n",
       "      <td>27.777673</td>\n",
       "      <td>NaN</td>\n",
       "    </tr>\n",
       "    <tr>\n",
       "      <th>46</th>\n",
       "      <td>Small Car_PHEV</td>\n",
       "      <td>Small ICE</td>\n",
       "      <td>70.239428</td>\n",
       "      <td>NaN</td>\n",
       "    </tr>\n",
       "  </tbody>\n",
       "</table>\n",
       "</div>"
      ],
      "text/plain": [
       "                 curr               sp1  comb_weight  curr_mapping\n",
       "0      Large Car _HEV         Large BEV     4.562911           NaN\n",
       "1      Large Car _HEV         Large ICE     1.887041           NaN\n",
       "2      Large Car _HEV         Small BEV     6.964996           NaN\n",
       "3      Large Car _HEV         Small ICE     2.390057           NaN\n",
       "4      Large Car _ICE         Large BEV    14.687570           NaN\n",
       "5      Large Car _ICE         Large ICE     1.899622           NaN\n",
       "6      Large Car _ICE  Pickup truck BEV     8.919592           NaN\n",
       "7      Large Car _ICE  Pickup truck ICE     8.769296           NaN\n",
       "8      Large Car _ICE         Small BEV    10.516950           NaN\n",
       "9      Large Car _ICE         Small ICE     8.241609           NaN\n",
       "10    Large Car _PHEV         Large ICE     3.810292           NaN\n",
       "11    Large Car _PHEV  Pickup truck ICE     0.518689           NaN\n",
       "12    Large Car _PHEV         Small BEV     1.050791           NaN\n",
       "13   Pickup Truck_HEV         Large BEV     2.475088           NaN\n",
       "14   Pickup Truck_HEV         Large ICE     5.788149           NaN\n",
       "15   Pickup Truck_HEV  Pickup truck BEV     2.126604           NaN\n",
       "16   Pickup Truck_HEV         Small BEV    15.005038           NaN\n",
       "17   Pickup Truck_HEV         Small ICE     5.041278           NaN\n",
       "18   Pickup Truck_ICE         Large BEV    15.216465           NaN\n",
       "19   Pickup Truck_ICE         Large ICE    14.901002           NaN\n",
       "20   Pickup Truck_ICE  Pickup truck BEV     9.447310           NaN\n",
       "21   Pickup Truck_ICE  Pickup truck ICE     2.674748           NaN\n",
       "22   Pickup Truck_ICE         Small BEV    27.456953           NaN\n",
       "23   Pickup Truck_ICE         Small ICE    25.747800           NaN\n",
       "24  Pickup Truck_PHEV         Large BEV     0.221593           NaN\n",
       "25  Pickup Truck_PHEV         Large ICE     0.308266           NaN\n",
       "26  Pickup Truck_PHEV  Pickup truck BEV     1.870039           NaN\n",
       "27  Pickup Truck_PHEV  Pickup truck ICE     0.102669           NaN\n",
       "28  Pickup Truck_PHEV         Small ICE     0.468809           NaN\n",
       "29      Small Car_HEV         Large BEV    82.811714           NaN\n",
       "30      Small Car_HEV         Large ICE   265.687313           NaN\n",
       "31      Small Car_HEV  Pickup truck BEV    34.853527           NaN\n",
       "32      Small Car_HEV  Pickup truck ICE    87.503152           NaN\n",
       "33      Small Car_HEV         Small BEV    56.430433           NaN\n",
       "34      Small Car_HEV         Small ICE   159.687672           NaN\n",
       "35      Small Car_ICE         Large BEV    45.761778           NaN\n",
       "36      Small Car_ICE         Large ICE    94.149007           NaN\n",
       "37      Small Car_ICE  Pickup truck BEV    15.719550           NaN\n",
       "38      Small Car_ICE  Pickup truck ICE    28.361000           NaN\n",
       "39      Small Car_ICE         Small BEV   130.217481           NaN\n",
       "40      Small Car_ICE         Small ICE   330.408230           NaN\n",
       "41     Small Car_PHEV         Large BEV    12.418875           NaN\n",
       "42     Small Car_PHEV         Large ICE    28.059184           NaN\n",
       "43     Small Car_PHEV  Pickup truck BEV    25.453004           NaN\n",
       "44     Small Car_PHEV  Pickup truck ICE   130.798470           NaN\n",
       "45     Small Car_PHEV         Small BEV    27.777673           NaN\n",
       "46     Small Car_PHEV         Small ICE    70.239428           NaN"
      ]
     },
     "execution_count": 339,
     "metadata": {},
     "output_type": "execute_result"
    }
   ],
   "source": [
    "# Get unique values from 'veh_pt_1' and 'veh_type_1' columns\n",
    "veh_pt_values = np.sort(np.array(geo_edf['veh_pt_1'].unique()))\n",
    "veh_type_values = np.sort(np.array(geo_edf['veh_type_1'].unique()))\n",
    "\n",
    "# Create the mapping dictionary using dictionary comprehension\n",
    "mapping_dict = {f'{i+1}_{j+1}': num for num, (i, j) in enumerate(np.ndindex(len(veh_pt_values), len(veh_type_values)), start=1)}\n",
    "\n",
    "df_for_sankey['curr_mapping'] = df_for_sankey['curr'].map(mapping_dict)\n",
    "\n",
    "df_for_sankey\n"
   ]
  },
  {
   "cell_type": "code",
   "execution_count": 340,
   "metadata": {},
   "outputs": [],
   "source": [
    "def prepare_df_sankey(df, source, target):\n",
    "    '''\n",
    "        be sure to `sort` the df by source and then by target\n",
    "    '''\n",
    "    label_list = df[source].unique().tolist() + df[target].unique().tolist()\n",
    "\n",
    "    df['source_index'] = df[source].copy().apply(lambda x: label_list.index(x))\n",
    "    df['target_index'] = df[target].copy().apply(lambda x: label_list.index(x))\n",
    "\n",
    "    return df, label_list\n",
    "\n",
    "df, label_list = prepare_df_sankey(df_for_sankey, 'curr', 'sp1')\n"
   ]
  },
  {
   "cell_type": "code",
   "execution_count": 341,
   "metadata": {},
   "outputs": [
    {
     "data": {
      "application/vnd.plotly.v1+json": {
       "config": {
        "plotlyServerURL": "https://plot.ly"
       },
       "data": [
        {
         "link": {
          "source": [
           0,
           0,
           0,
           0,
           1,
           1,
           1,
           1,
           1,
           1,
           2,
           2,
           2,
           3,
           3,
           3,
           3,
           3,
           4,
           4,
           4,
           4,
           4,
           4,
           5,
           5,
           5,
           5,
           5,
           6,
           6,
           6,
           6,
           6,
           6,
           7,
           7,
           7,
           7,
           7,
           7,
           8,
           8,
           8,
           8,
           8,
           8
          ],
          "target": [
           9,
           10,
           11,
           12,
           9,
           10,
           13,
           14,
           11,
           12,
           10,
           14,
           11,
           9,
           10,
           13,
           11,
           12,
           9,
           10,
           13,
           14,
           11,
           12,
           9,
           10,
           13,
           14,
           12,
           9,
           10,
           13,
           14,
           11,
           12,
           9,
           10,
           13,
           14,
           11,
           12,
           9,
           10,
           13,
           14,
           11,
           12
          ],
          "value": [
           4.5629110740000005,
           1.8870412559999998,
           6.964996327,
           2.390057486,
           14.6875696,
           1.8996219079999999,
           8.919592304,
           8.769296121,
           10.516949744,
           8.241609309,
           3.8102917219999997,
           0.518689137,
           1.050791264,
           2.475087989,
           5.788148777,
           2.1266042880000002,
           15.005037661,
           5.0412778220000005,
           15.216464819999999,
           14.901001847,
           9.447310013,
           2.674747582,
           27.456952587,
           25.747799882,
           0.221593119,
           0.308266195,
           1.870038687,
           0.102669015,
           0.46880877,
           82.811714103,
           265.687312876,
           34.853526732,
           87.503151535,
           56.430433056999995,
           159.687671564,
           45.76177822,
           94.149006819,
           15.719549947,
           28.360999955,
           130.217481137,
           330.408229925,
           12.418875216,
           28.05918378,
           25.453003553,
           130.798470157,
           27.777673029,
           70.23942760199999
          ]
         },
         "node": {
          "label": [
           "Large Car _HEV",
           "Large Car _ICE",
           "Large Car _PHEV",
           "Pickup Truck_HEV",
           "Pickup Truck_ICE",
           "Pickup Truck_PHEV",
           "Small Car_HEV",
           "Small Car_ICE",
           "Small Car_PHEV",
           "Large BEV",
           "Large ICE",
           "Small BEV",
           "Small ICE",
           "Pickup truck BEV",
           "Pickup truck ICE"
          ],
          "line": {
           "color": "black",
           "width": 0.5
          },
          "pad": 15,
          "thickness": 20,
          "x": [
           0,
           0,
           0,
           1,
           1,
           1,
           1
          ]
         },
         "type": "sankey"
        }
       ],
       "layout": {
        "font": {
         "size": 10
        },
        "template": {
         "data": {
          "bar": [
           {
            "error_x": {
             "color": "#2a3f5f"
            },
            "error_y": {
             "color": "#2a3f5f"
            },
            "marker": {
             "line": {
              "color": "#E5ECF6",
              "width": 0.5
             },
             "pattern": {
              "fillmode": "overlay",
              "size": 10,
              "solidity": 0.2
             }
            },
            "type": "bar"
           }
          ],
          "barpolar": [
           {
            "marker": {
             "line": {
              "color": "#E5ECF6",
              "width": 0.5
             },
             "pattern": {
              "fillmode": "overlay",
              "size": 10,
              "solidity": 0.2
             }
            },
            "type": "barpolar"
           }
          ],
          "carpet": [
           {
            "aaxis": {
             "endlinecolor": "#2a3f5f",
             "gridcolor": "white",
             "linecolor": "white",
             "minorgridcolor": "white",
             "startlinecolor": "#2a3f5f"
            },
            "baxis": {
             "endlinecolor": "#2a3f5f",
             "gridcolor": "white",
             "linecolor": "white",
             "minorgridcolor": "white",
             "startlinecolor": "#2a3f5f"
            },
            "type": "carpet"
           }
          ],
          "choropleth": [
           {
            "colorbar": {
             "outlinewidth": 0,
             "ticks": ""
            },
            "type": "choropleth"
           }
          ],
          "contour": [
           {
            "colorbar": {
             "outlinewidth": 0,
             "ticks": ""
            },
            "colorscale": [
             [
              0,
              "#0d0887"
             ],
             [
              0.1111111111111111,
              "#46039f"
             ],
             [
              0.2222222222222222,
              "#7201a8"
             ],
             [
              0.3333333333333333,
              "#9c179e"
             ],
             [
              0.4444444444444444,
              "#bd3786"
             ],
             [
              0.5555555555555556,
              "#d8576b"
             ],
             [
              0.6666666666666666,
              "#ed7953"
             ],
             [
              0.7777777777777778,
              "#fb9f3a"
             ],
             [
              0.8888888888888888,
              "#fdca26"
             ],
             [
              1,
              "#f0f921"
             ]
            ],
            "type": "contour"
           }
          ],
          "contourcarpet": [
           {
            "colorbar": {
             "outlinewidth": 0,
             "ticks": ""
            },
            "type": "contourcarpet"
           }
          ],
          "heatmap": [
           {
            "colorbar": {
             "outlinewidth": 0,
             "ticks": ""
            },
            "colorscale": [
             [
              0,
              "#0d0887"
             ],
             [
              0.1111111111111111,
              "#46039f"
             ],
             [
              0.2222222222222222,
              "#7201a8"
             ],
             [
              0.3333333333333333,
              "#9c179e"
             ],
             [
              0.4444444444444444,
              "#bd3786"
             ],
             [
              0.5555555555555556,
              "#d8576b"
             ],
             [
              0.6666666666666666,
              "#ed7953"
             ],
             [
              0.7777777777777778,
              "#fb9f3a"
             ],
             [
              0.8888888888888888,
              "#fdca26"
             ],
             [
              1,
              "#f0f921"
             ]
            ],
            "type": "heatmap"
           }
          ],
          "heatmapgl": [
           {
            "colorbar": {
             "outlinewidth": 0,
             "ticks": ""
            },
            "colorscale": [
             [
              0,
              "#0d0887"
             ],
             [
              0.1111111111111111,
              "#46039f"
             ],
             [
              0.2222222222222222,
              "#7201a8"
             ],
             [
              0.3333333333333333,
              "#9c179e"
             ],
             [
              0.4444444444444444,
              "#bd3786"
             ],
             [
              0.5555555555555556,
              "#d8576b"
             ],
             [
              0.6666666666666666,
              "#ed7953"
             ],
             [
              0.7777777777777778,
              "#fb9f3a"
             ],
             [
              0.8888888888888888,
              "#fdca26"
             ],
             [
              1,
              "#f0f921"
             ]
            ],
            "type": "heatmapgl"
           }
          ],
          "histogram": [
           {
            "marker": {
             "pattern": {
              "fillmode": "overlay",
              "size": 10,
              "solidity": 0.2
             }
            },
            "type": "histogram"
           }
          ],
          "histogram2d": [
           {
            "colorbar": {
             "outlinewidth": 0,
             "ticks": ""
            },
            "colorscale": [
             [
              0,
              "#0d0887"
             ],
             [
              0.1111111111111111,
              "#46039f"
             ],
             [
              0.2222222222222222,
              "#7201a8"
             ],
             [
              0.3333333333333333,
              "#9c179e"
             ],
             [
              0.4444444444444444,
              "#bd3786"
             ],
             [
              0.5555555555555556,
              "#d8576b"
             ],
             [
              0.6666666666666666,
              "#ed7953"
             ],
             [
              0.7777777777777778,
              "#fb9f3a"
             ],
             [
              0.8888888888888888,
              "#fdca26"
             ],
             [
              1,
              "#f0f921"
             ]
            ],
            "type": "histogram2d"
           }
          ],
          "histogram2dcontour": [
           {
            "colorbar": {
             "outlinewidth": 0,
             "ticks": ""
            },
            "colorscale": [
             [
              0,
              "#0d0887"
             ],
             [
              0.1111111111111111,
              "#46039f"
             ],
             [
              0.2222222222222222,
              "#7201a8"
             ],
             [
              0.3333333333333333,
              "#9c179e"
             ],
             [
              0.4444444444444444,
              "#bd3786"
             ],
             [
              0.5555555555555556,
              "#d8576b"
             ],
             [
              0.6666666666666666,
              "#ed7953"
             ],
             [
              0.7777777777777778,
              "#fb9f3a"
             ],
             [
              0.8888888888888888,
              "#fdca26"
             ],
             [
              1,
              "#f0f921"
             ]
            ],
            "type": "histogram2dcontour"
           }
          ],
          "mesh3d": [
           {
            "colorbar": {
             "outlinewidth": 0,
             "ticks": ""
            },
            "type": "mesh3d"
           }
          ],
          "parcoords": [
           {
            "line": {
             "colorbar": {
              "outlinewidth": 0,
              "ticks": ""
             }
            },
            "type": "parcoords"
           }
          ],
          "pie": [
           {
            "automargin": true,
            "type": "pie"
           }
          ],
          "scatter": [
           {
            "fillpattern": {
             "fillmode": "overlay",
             "size": 10,
             "solidity": 0.2
            },
            "type": "scatter"
           }
          ],
          "scatter3d": [
           {
            "line": {
             "colorbar": {
              "outlinewidth": 0,
              "ticks": ""
             }
            },
            "marker": {
             "colorbar": {
              "outlinewidth": 0,
              "ticks": ""
             }
            },
            "type": "scatter3d"
           }
          ],
          "scattercarpet": [
           {
            "marker": {
             "colorbar": {
              "outlinewidth": 0,
              "ticks": ""
             }
            },
            "type": "scattercarpet"
           }
          ],
          "scattergeo": [
           {
            "marker": {
             "colorbar": {
              "outlinewidth": 0,
              "ticks": ""
             }
            },
            "type": "scattergeo"
           }
          ],
          "scattergl": [
           {
            "marker": {
             "colorbar": {
              "outlinewidth": 0,
              "ticks": ""
             }
            },
            "type": "scattergl"
           }
          ],
          "scattermapbox": [
           {
            "marker": {
             "colorbar": {
              "outlinewidth": 0,
              "ticks": ""
             }
            },
            "type": "scattermapbox"
           }
          ],
          "scatterpolar": [
           {
            "marker": {
             "colorbar": {
              "outlinewidth": 0,
              "ticks": ""
             }
            },
            "type": "scatterpolar"
           }
          ],
          "scatterpolargl": [
           {
            "marker": {
             "colorbar": {
              "outlinewidth": 0,
              "ticks": ""
             }
            },
            "type": "scatterpolargl"
           }
          ],
          "scatterternary": [
           {
            "marker": {
             "colorbar": {
              "outlinewidth": 0,
              "ticks": ""
             }
            },
            "type": "scatterternary"
           }
          ],
          "surface": [
           {
            "colorbar": {
             "outlinewidth": 0,
             "ticks": ""
            },
            "colorscale": [
             [
              0,
              "#0d0887"
             ],
             [
              0.1111111111111111,
              "#46039f"
             ],
             [
              0.2222222222222222,
              "#7201a8"
             ],
             [
              0.3333333333333333,
              "#9c179e"
             ],
             [
              0.4444444444444444,
              "#bd3786"
             ],
             [
              0.5555555555555556,
              "#d8576b"
             ],
             [
              0.6666666666666666,
              "#ed7953"
             ],
             [
              0.7777777777777778,
              "#fb9f3a"
             ],
             [
              0.8888888888888888,
              "#fdca26"
             ],
             [
              1,
              "#f0f921"
             ]
            ],
            "type": "surface"
           }
          ],
          "table": [
           {
            "cells": {
             "fill": {
              "color": "#EBF0F8"
             },
             "line": {
              "color": "white"
             }
            },
            "header": {
             "fill": {
              "color": "#C8D4E3"
             },
             "line": {
              "color": "white"
             }
            },
            "type": "table"
           }
          ]
         },
         "layout": {
          "annotationdefaults": {
           "arrowcolor": "#2a3f5f",
           "arrowhead": 0,
           "arrowwidth": 1
          },
          "autotypenumbers": "strict",
          "coloraxis": {
           "colorbar": {
            "outlinewidth": 0,
            "ticks": ""
           }
          },
          "colorscale": {
           "diverging": [
            [
             0,
             "#8e0152"
            ],
            [
             0.1,
             "#c51b7d"
            ],
            [
             0.2,
             "#de77ae"
            ],
            [
             0.3,
             "#f1b6da"
            ],
            [
             0.4,
             "#fde0ef"
            ],
            [
             0.5,
             "#f7f7f7"
            ],
            [
             0.6,
             "#e6f5d0"
            ],
            [
             0.7,
             "#b8e186"
            ],
            [
             0.8,
             "#7fbc41"
            ],
            [
             0.9,
             "#4d9221"
            ],
            [
             1,
             "#276419"
            ]
           ],
           "sequential": [
            [
             0,
             "#0d0887"
            ],
            [
             0.1111111111111111,
             "#46039f"
            ],
            [
             0.2222222222222222,
             "#7201a8"
            ],
            [
             0.3333333333333333,
             "#9c179e"
            ],
            [
             0.4444444444444444,
             "#bd3786"
            ],
            [
             0.5555555555555556,
             "#d8576b"
            ],
            [
             0.6666666666666666,
             "#ed7953"
            ],
            [
             0.7777777777777778,
             "#fb9f3a"
            ],
            [
             0.8888888888888888,
             "#fdca26"
            ],
            [
             1,
             "#f0f921"
            ]
           ],
           "sequentialminus": [
            [
             0,
             "#0d0887"
            ],
            [
             0.1111111111111111,
             "#46039f"
            ],
            [
             0.2222222222222222,
             "#7201a8"
            ],
            [
             0.3333333333333333,
             "#9c179e"
            ],
            [
             0.4444444444444444,
             "#bd3786"
            ],
            [
             0.5555555555555556,
             "#d8576b"
            ],
            [
             0.6666666666666666,
             "#ed7953"
            ],
            [
             0.7777777777777778,
             "#fb9f3a"
            ],
            [
             0.8888888888888888,
             "#fdca26"
            ],
            [
             1,
             "#f0f921"
            ]
           ]
          },
          "colorway": [
           "#636efa",
           "#EF553B",
           "#00cc96",
           "#ab63fa",
           "#FFA15A",
           "#19d3f3",
           "#FF6692",
           "#B6E880",
           "#FF97FF",
           "#FECB52"
          ],
          "font": {
           "color": "#2a3f5f"
          },
          "geo": {
           "bgcolor": "white",
           "lakecolor": "white",
           "landcolor": "#E5ECF6",
           "showlakes": true,
           "showland": true,
           "subunitcolor": "white"
          },
          "hoverlabel": {
           "align": "left"
          },
          "hovermode": "closest",
          "mapbox": {
           "style": "light"
          },
          "paper_bgcolor": "white",
          "plot_bgcolor": "#E5ECF6",
          "polar": {
           "angularaxis": {
            "gridcolor": "white",
            "linecolor": "white",
            "ticks": ""
           },
           "bgcolor": "#E5ECF6",
           "radialaxis": {
            "gridcolor": "white",
            "linecolor": "white",
            "ticks": ""
           }
          },
          "scene": {
           "xaxis": {
            "backgroundcolor": "#E5ECF6",
            "gridcolor": "white",
            "gridwidth": 2,
            "linecolor": "white",
            "showbackground": true,
            "ticks": "",
            "zerolinecolor": "white"
           },
           "yaxis": {
            "backgroundcolor": "#E5ECF6",
            "gridcolor": "white",
            "gridwidth": 2,
            "linecolor": "white",
            "showbackground": true,
            "ticks": "",
            "zerolinecolor": "white"
           },
           "zaxis": {
            "backgroundcolor": "#E5ECF6",
            "gridcolor": "white",
            "gridwidth": 2,
            "linecolor": "white",
            "showbackground": true,
            "ticks": "",
            "zerolinecolor": "white"
           }
          },
          "shapedefaults": {
           "line": {
            "color": "#2a3f5f"
           }
          },
          "ternary": {
           "aaxis": {
            "gridcolor": "white",
            "linecolor": "white",
            "ticks": ""
           },
           "baxis": {
            "gridcolor": "white",
            "linecolor": "white",
            "ticks": ""
           },
           "bgcolor": "#E5ECF6",
           "caxis": {
            "gridcolor": "white",
            "linecolor": "white",
            "ticks": ""
           }
          },
          "title": {
           "x": 0.05
          },
          "xaxis": {
           "automargin": true,
           "gridcolor": "white",
           "linecolor": "white",
           "ticks": "",
           "title": {
            "standoff": 15
           },
           "zerolinecolor": "white",
           "zerolinewidth": 2
          },
          "yaxis": {
           "automargin": true,
           "gridcolor": "white",
           "linecolor": "white",
           "ticks": "",
           "title": {
            "standoff": 15
           },
           "zerolinecolor": "white",
           "zerolinewidth": 2
          }
         }
        },
        "title": {
         "text": "Basic Sankey Diagram"
        }
       }
      }
     },
     "metadata": {},
     "output_type": "display_data"
    }
   ],
   "source": [
    "source = df_for_sankey['curr'].to_list()\n",
    "destinations = df_for_sankey['sp1'].to_list()\n",
    "values = df_for_sankey['comb_weight'].to_list()\n",
    "\n",
    "label_list = df_for_sankey['curr'].unique().tolist() + df_for_sankey['sp1'].unique().tolist()\n",
    "\n",
    "\n",
    "fig = go.Figure(data=[go.Sankey(\n",
    "    node=dict(\n",
    "        pad=15,\n",
    "        thickness=20,\n",
    "        line=dict(color=\"black\", width=0.5),\n",
    "        label=label_list,\n",
    "        # color=\"blue\",\n",
    "        x=[0, 0, 0, 1, 1, 1, 1]  # Adjust x-axis position for each node\n",
    "    ),\n",
    "    link=dict(\n",
    "        source=df['source_index'].to_list(),\n",
    "        target=df['target_index'].to_list(),\n",
    "        value=df['comb_weight'].to_list()\n",
    "    )\n",
    ")])\n",
    "\n",
    "fig.update_layout(title_text=\"Basic Sankey Diagram\", font_size=10)\n",
    "fig.show()\n"
   ]
  },
  {
   "cell_type": "code",
   "execution_count": null,
   "metadata": {},
   "outputs": [],
   "source": []
  },
  {
   "cell_type": "code",
   "execution_count": null,
   "metadata": {},
   "outputs": [],
   "source": []
  }
 ],
 "metadata": {
  "kernelspec": {
   "display_name": "ev-env",
   "language": "python",
   "name": "python3"
  },
  "language_info": {
   "codemirror_mode": {
    "name": "ipython",
    "version": 3
   },
   "file_extension": ".py",
   "mimetype": "text/x-python",
   "name": "python",
   "nbconvert_exporter": "python",
   "pygments_lexer": "ipython3",
   "version": "3.9.16"
  },
  "orig_nbformat": 4
 },
 "nbformat": 4,
 "nbformat_minor": 2
}
